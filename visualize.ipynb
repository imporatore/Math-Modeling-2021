{
 "cells": [
  {
   "cell_type": "code",
   "execution_count": 1,
   "metadata": {},
   "outputs": [],
   "source": [
    "import os\n",
    "import time\n",
    "\n",
    "import numpy as np\n",
    "import pandas as pd\n",
    "import matplotlib.pyplot as plt\n",
    "import plotly.graph_objects as go\n",
    "import plotly.express as px\n",
    "\n",
    "from utils import DATA_DIR\n"
   ]
  },
  {
   "cell_type": "code",
   "execution_count": 2,
   "metadata": {
    "pycharm": {
     "name": "#%%\n"
    }
   },
   "outputs": [],
   "source": [
    "full_data = pd.read_excel(os.path.join(\n",
    "    DATA_DIR, \"2021MCMProblemC_DataSet.xlsx\"),\n",
    "    parse_dates=[\"Submission Date\", \"Detection Date\"])"
   ]
  },
  {
   "cell_type": "code",
   "execution_count": null,
   "outputs": [],
   "source": [
    "date_mask = (full_data[\"Submission Date\"] <= '2019-01-01') | \\\n",
    "            (full_data[\"Submission Date\"] == '<NULL>')\n",
    "full_data.loc[date_mask]"
   ],
   "metadata": {
    "collapsed": false,
    "pycharm": {
     "name": "#%%\n"
    }
   }
  },
  {
   "cell_type": "code",
   "execution_count": null,
   "outputs": [],
   "source": [
    "full_data['DetectionTime'] = full_data['Detection Date'].apply(lambda x:time.mktime(time.strptime(x,'%Y-%m-%d %H:%M:%S')))"
   ],
   "metadata": {
    "collapsed": false,
    "pycharm": {
     "name": "#%%\n"
    }
   }
  },
  {
   "cell_type": "code",
   "execution_count": null,
   "metadata": {
    "pycharm": {
     "name": "#%%\n"
    }
   },
   "outputs": [],
   "source": [
    "token = \"pk.eyJ1IjoiaW1wb3JhdG9yZSIsImEiOiJja2t0MzA2b3kxOGFvMnBueWszZnZnbmgwIn0.tygBhmPNoTkj4X39fqVCYw\"\n",
    "px.set_mapbox_access_token(token)"
   ]
  },
  {
   "cell_type": "code",
   "execution_count": 29,
   "metadata": {
    "pycharm": {
     "name": "#%%\n"
    }
   },
   "outputs": [
    {
     "ename": "ValueError",
     "evalue": "Value of 'color' is not the name of a column in 'data_frame'. Expected one of ['GlobalID', 'Detection Date', 'Notes', 'Lab Status', 'Lab Comments', 'Submission Date', 'Latitude', 'Longitude'] but received: DetectionTime",
     "output_type": "error",
     "traceback": [
      "\u001B[1;31m---------------------------------------------------------------------------\u001B[0m",
      "\u001B[1;31mValueError\u001B[0m                                Traceback (most recent call last)",
      "\u001B[1;32m<ipython-input-29-6fb25f0e88d0>\u001B[0m in \u001B[0;36m<module>\u001B[1;34m\u001B[0m\n\u001B[0;32m      3\u001B[0m                         \u001B[0mlat\u001B[0m\u001B[1;33m=\u001B[0m\u001B[1;34m'Latitude'\u001B[0m\u001B[1;33m,\u001B[0m\u001B[1;33m\u001B[0m\u001B[1;33m\u001B[0m\u001B[0m\n\u001B[0;32m      4\u001B[0m                         \u001B[0mcolor\u001B[0m\u001B[1;33m=\u001B[0m\u001B[1;34m\"DetectionTime\"\u001B[0m\u001B[1;33m,\u001B[0m\u001B[1;33m\u001B[0m\u001B[1;33m\u001B[0m\u001B[0m\n\u001B[1;32m----> 5\u001B[1;33m                         color_continuous_scale=px.colors.carto.Temps)\n\u001B[0m\u001B[0;32m      6\u001B[0m \u001B[1;33m\u001B[0m\u001B[0m\n\u001B[0;32m      7\u001B[0m fig.update_layout(mapbox = {'accesstoken': token, 'style':'light'},\n",
      "\u001B[1;32mC:\\ProgramData\\Anaconda3\\lib\\site-packages\\plotly\\express\\_chart_types.py\u001B[0m in \u001B[0;36mscatter_mapbox\u001B[1;34m(data_frame, lat, lon, color, text, hover_name, hover_data, size, animation_frame, animation_group, category_orders, labels, color_discrete_sequence, color_discrete_map, color_continuous_scale, range_color, color_continuous_midpoint, opacity, size_max, zoom, title, template, width, height)\u001B[0m\n\u001B[0;32m    942\u001B[0m     \u001B[0mIn\u001B[0m \u001B[0ma\u001B[0m \u001B[0mMapbox\u001B[0m \u001B[0mscatter\u001B[0m \u001B[0mplot\u001B[0m\u001B[1;33m,\u001B[0m \u001B[0meach\u001B[0m \u001B[0mrow\u001B[0m \u001B[0mof\u001B[0m\u001B[0;31m \u001B[0m\u001B[0;31m`\u001B[0m\u001B[0mdata_frame\u001B[0m\u001B[0;31m`\u001B[0m \u001B[1;32mis\u001B[0m \u001B[0mrepresented\u001B[0m \u001B[0mby\u001B[0m \u001B[0ma\u001B[0m \u001B[0msymbol\u001B[0m \u001B[0mmark\u001B[0m \u001B[0mon\u001B[0m \u001B[0ma\u001B[0m \u001B[0mMapbox\u001B[0m \u001B[0mmap\u001B[0m\u001B[1;33m.\u001B[0m\u001B[1;33m\u001B[0m\u001B[1;33m\u001B[0m\u001B[0m\n\u001B[0;32m    943\u001B[0m     \"\"\"\n\u001B[1;32m--> 944\u001B[1;33m     \u001B[1;32mreturn\u001B[0m \u001B[0mmake_figure\u001B[0m\u001B[1;33m(\u001B[0m\u001B[0margs\u001B[0m\u001B[1;33m=\u001B[0m\u001B[0mlocals\u001B[0m\u001B[1;33m(\u001B[0m\u001B[1;33m)\u001B[0m\u001B[1;33m,\u001B[0m \u001B[0mconstructor\u001B[0m\u001B[1;33m=\u001B[0m\u001B[0mgo\u001B[0m\u001B[1;33m.\u001B[0m\u001B[0mScattermapbox\u001B[0m\u001B[1;33m)\u001B[0m\u001B[1;33m\u001B[0m\u001B[1;33m\u001B[0m\u001B[0m\n\u001B[0m\u001B[0;32m    945\u001B[0m \u001B[1;33m\u001B[0m\u001B[0m\n\u001B[0;32m    946\u001B[0m \u001B[1;33m\u001B[0m\u001B[0m\n",
      "\u001B[1;32mC:\\ProgramData\\Anaconda3\\lib\\site-packages\\plotly\\express\\_core.py\u001B[0m in \u001B[0;36mmake_figure\u001B[1;34m(args, constructor, trace_patch, layout_patch)\u001B[0m\n\u001B[0;32m    861\u001B[0m \u001B[1;33m\u001B[0m\u001B[0m\n\u001B[0;32m    862\u001B[0m     trace_specs, grouped_mappings, sizeref, show_colorbar = infer_config(\n\u001B[1;32m--> 863\u001B[1;33m         \u001B[0margs\u001B[0m\u001B[1;33m,\u001B[0m \u001B[0mconstructor\u001B[0m\u001B[1;33m,\u001B[0m \u001B[0mtrace_patch\u001B[0m\u001B[1;33m\u001B[0m\u001B[1;33m\u001B[0m\u001B[0m\n\u001B[0m\u001B[0;32m    864\u001B[0m     )\n\u001B[0;32m    865\u001B[0m     \u001B[0mgrouper\u001B[0m \u001B[1;33m=\u001B[0m \u001B[1;33m[\u001B[0m\u001B[0mx\u001B[0m\u001B[1;33m.\u001B[0m\u001B[0mgrouper\u001B[0m \u001B[1;32mor\u001B[0m \u001B[0mone_group\u001B[0m \u001B[1;32mfor\u001B[0m \u001B[0mx\u001B[0m \u001B[1;32min\u001B[0m \u001B[0mgrouped_mappings\u001B[0m\u001B[1;33m]\u001B[0m \u001B[1;32mor\u001B[0m \u001B[1;33m[\u001B[0m\u001B[0mone_group\u001B[0m\u001B[1;33m]\u001B[0m\u001B[1;33m\u001B[0m\u001B[1;33m\u001B[0m\u001B[0m\n",
      "\u001B[1;32mC:\\ProgramData\\Anaconda3\\lib\\site-packages\\plotly\\express\\_core.py\u001B[0m in \u001B[0;36minfer_config\u001B[1;34m(args, constructor, trace_patch)\u001B[0m\n\u001B[0;32m    743\u001B[0m                         \u001B[1;34m\"%s of '%s' is not the name of a column in 'data_frame'. \"\u001B[0m\u001B[1;33m\u001B[0m\u001B[1;33m\u001B[0m\u001B[0m\n\u001B[0;32m    744\u001B[0m                         \u001B[1;34m\"Expected one of %s but received: %s\"\u001B[0m\u001B[1;33m\u001B[0m\u001B[1;33m\u001B[0m\u001B[0m\n\u001B[1;32m--> 745\u001B[1;33m                         \u001B[1;33m%\u001B[0m \u001B[1;33m(\u001B[0m\u001B[0mvalue_str\u001B[0m\u001B[1;33m,\u001B[0m \u001B[0mattr\u001B[0m\u001B[1;33m,\u001B[0m \u001B[0mstr\u001B[0m\u001B[1;33m(\u001B[0m\u001B[0mlist\u001B[0m\u001B[1;33m(\u001B[0m\u001B[0mdf_columns\u001B[0m\u001B[1;33m)\u001B[0m\u001B[1;33m)\u001B[0m\u001B[1;33m,\u001B[0m \u001B[0mstr\u001B[0m\u001B[1;33m(\u001B[0m\u001B[0mmaybe_col\u001B[0m\u001B[1;33m)\u001B[0m\u001B[1;33m)\u001B[0m\u001B[1;33m\u001B[0m\u001B[1;33m\u001B[0m\u001B[0m\n\u001B[0m\u001B[0;32m    746\u001B[0m                     )\n\u001B[0;32m    747\u001B[0m \u001B[1;33m\u001B[0m\u001B[0m\n",
      "\u001B[1;31mValueError\u001B[0m: Value of 'color' is not the name of a column in 'data_frame'. Expected one of ['GlobalID', 'Detection Date', 'Notes', 'Lab Status', 'Lab Comments', 'Submission Date', 'Latitude', 'Longitude'] but received: DetectionTime"
     ]
    }
   ],
   "source": [
    "fig = px.scatter_mapbox(full_data,\n",
    "                        lon='Longitude',\n",
    "                        lat='Latitude',\n",
    "                        color=\"DetectionTime\",\n",
    "                        color_continuous_scale=px.colors.carto.Temps)\n",
    "\n",
    "fig.update_layout(mapbox = {'accesstoken': token, 'style':'light'},\n",
    "                  showlegend =True)"
   ]
  },
  {
   "cell_type": "code",
   "execution_count": null,
   "metadata": {
    "pycharm": {
     "name": "#%%\n"
    }
   },
   "outputs": [],
   "source": [
    "\n"
   ]
  }
 ],
 "metadata": {
  "kernelspec": {
   "display_name": "Python 3",
   "language": "python",
   "name": "python3"
  },
  "language_info": {
   "codemirror_mode": {
    "name": "ipython",
    "version": 3
   },
   "file_extension": ".py",
   "mimetype": "text/x-python",
   "name": "python",
   "nbconvert_exporter": "python",
   "pygments_lexer": "ipython3",
   "version": "3.7.3"
  }
 },
 "nbformat": 4,
 "nbformat_minor": 1
}