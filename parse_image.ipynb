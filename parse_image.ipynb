{
 "cells": [
  {
   "cell_type": "code",
   "execution_count": 1,
   "metadata": {
    "collapsed": true
   },
   "outputs": [],
   "source": [
    "import os\n",
    "import shutil\n",
    "\n",
    "import pandas as pd\n",
    "\n",
    "from utils import DATA_DIR"
   ]
  },
  {
   "cell_type": "code",
   "execution_count": 2,
   "outputs": [],
   "source": [
    "full_data = pd.read_excel(os.path.join(\n",
    "    DATA_DIR, \"2021MCMProblemC_DataSet.xlsx\"),\n",
    "    parse_dates=[\"Submission Date\"])\n",
    "image_data = pd.read_excel(os.path.join(\n",
    "    DATA_DIR, \"2021MCM_ProblemC_ Images_by_GlobalID.xlsx\"))\n",
    "image_data = pd.merge(image_data, full_data[['GlobalID', \"Lab Status\"]], how='left')"
   ],
   "metadata": {
    "collapsed": false,
    "pycharm": {
     "name": "#%%\n"
    }
   }
  },
  {
   "cell_type": "code",
   "execution_count": 3,
   "outputs": [],
   "source": [
    "prev_dir = os.path.join(DATA_DIR, \"2021MCM_ProblemC_Files\")"
   ],
   "metadata": {
    "collapsed": false,
    "pycharm": {
     "name": "#%%\n"
    }
   }
  },
  {
   "cell_type": "code",
   "execution_count": 4,
   "outputs": [],
   "source": [
    "# for tag in image_data['Lab Status'].unique():\n",
    "#     os.makedirs(os.path.join(DATA_DIR, 'pic', tag))"
   ],
   "metadata": {
    "collapsed": false,
    "pycharm": {
     "name": "#%%\n"
    }
   }
  },
  {
   "cell_type": "code",
   "execution_count": 5,
   "outputs": [],
   "source": [
    "for i in range(image_data.shape[0]):\n",
    "    fn, _, ft, ls = image_data.iloc[i, :].values\n",
    "    if ft in ['image/jpg', 'image/png']:\n",
    "        shutil.move(os.path.join(prev_dir, fn),\n",
    "                    os.path.join(DATA_DIR, 'pic', ls, fn))"
   ],
   "metadata": {
    "collapsed": false,
    "pycharm": {
     "name": "#%%\n"
    }
   }
  },
  {
   "cell_type": "code",
   "execution_count": 5,
   "outputs": [],
   "source": [],
   "metadata": {
    "collapsed": false,
    "pycharm": {
     "name": "#%%\n"
    }
   }
  }
 ],
 "metadata": {
  "kernelspec": {
   "display_name": "Python 3",
   "language": "python",
   "name": "python3"
  },
  "language_info": {
   "codemirror_mode": {
    "name": "ipython",
    "version": 2
   },
   "file_extension": ".py",
   "mimetype": "text/x-python",
   "name": "python",
   "nbconvert_exporter": "python",
   "pygments_lexer": "ipython2",
   "version": "2.7.6"
  }
 },
 "nbformat": 4,
 "nbformat_minor": 0
}